{
 "cells": [
  {
   "cell_type": "code",
   "execution_count": null,
   "source": [
    "import numpy as np\r\n",
    "from tensorflow.keras.models import Sequential # 케라스의 Sequential()을 임포트\r\n",
    "from tensorflow.keras.layers import Dense # 케라스의 Dense()를 임포트\r\n",
    "from tensorflow.keras import optimizers # 케라스의 옵티마이저를 임포트\r\n",
    "\r\n",
    "# 입력 벡터의 차원은 3입니다. 즉, input_dim은 3입니다.\r\n",
    "X = np.array([[70,85,11],[71,89,18],[50,80,20],[99,20,10],[50,10,10]]) # 중간, 기말, 가산점\r\n",
    "\r\n",
    "# 출력 벡터의 차원은 1입니다. 즉, output_dim은 1입니다.\r\n",
    "y = np.array([73,82,72,57,34]) # 최종 성적\r\n",
    "\r\n",
    "model=Sequential()\r\n",
    "model.add(Dense(1, input_dim=3, activation='linear'))\r\n",
    "\r\n",
    "# 학습률(learning rate, lr)은 0.00001로 합니다.\r\n",
    "sgd=optimizers.SGD(lr=0.00001)\r\n",
    "\r\n",
    "# 손실 함수(Loss function)은 평균제곱오차 mse를 사용합니다.\r\n",
    "model.compile(optimizer = sgd ,loss='mse',metrics=['mse'])\r\n",
    "\r\n",
    "model.summary()\r\n",
    "\r\n",
    "# 주어진 X와 y데이터에 대해서 오차를 최소화하는 작업을 2,000번 시도합니다.\r\n",
    "model.fit(X,y, batch_size=1, epochs=2000, shuffle=False)"
   ],
   "outputs": [],
   "metadata": {}
  },
  {
   "cell_type": "code",
   "execution_count": null,
   "source": [
    "print(model.predict(X))\r\n"
   ],
   "outputs": [],
   "metadata": {}
  },
  {
   "cell_type": "code",
   "execution_count": null,
   "source": [
    "X_test = np.array([[20,99,10],[40,50,20]]) # 각각 58점과 56점을 예측해야 합니다.\r\n",
    "print(model.predict(X_test))"
   ],
   "outputs": [],
   "metadata": {}
  }
 ],
 "metadata": {
  "orig_nbformat": 4,
  "language_info": {
   "name": "python"
  }
 },
 "nbformat": 4,
 "nbformat_minor": 2
}